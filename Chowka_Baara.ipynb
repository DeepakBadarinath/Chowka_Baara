{
  "nbformat": 4,
  "nbformat_minor": 0,
  "metadata": {
    "colab": {
      "name": "Chowka_Baara",
      "provenance": [],
      "collapsed_sections": []
    },
    "kernelspec": {
      "name": "python3",
      "display_name": "Python 3"
    }
  },
  "cells": [
    {
      "cell_type": "code",
      "metadata": {
        "id": "olrorFm2-0hu",
        "colab": {
          "base_uri": "https://localhost:8080/",
          "height": 313
        },
        "outputId": "56fa2406-8d58-40d0-d7bc-4a6ad210dafc"
      },
      "source": [
        "import pygame\n",
        "pygame.init()\n"
      ],
      "execution_count": null,
      "outputs": [
        {
          "output_type": "error",
          "ename": "ModuleNotFoundError",
          "evalue": "ignored",
          "traceback": [
            "\u001b[0;31m---------------------------------------------------------------------------\u001b[0m",
            "\u001b[0;31mModuleNotFoundError\u001b[0m                       Traceback (most recent call last)",
            "\u001b[0;32m<ipython-input-4-cd64e958c773>\u001b[0m in \u001b[0;36m<module>\u001b[0;34m()\u001b[0m\n\u001b[0;32m----> 1\u001b[0;31m \u001b[0;32mimport\u001b[0m \u001b[0mpygame\u001b[0m\u001b[0;34m\u001b[0m\u001b[0;34m\u001b[0m\u001b[0m\n\u001b[0m\u001b[1;32m      2\u001b[0m \u001b[0mpygame\u001b[0m\u001b[0;34m.\u001b[0m\u001b[0minit\u001b[0m\u001b[0;34m(\u001b[0m\u001b[0;34m)\u001b[0m\u001b[0;34m\u001b[0m\u001b[0;34m\u001b[0m\u001b[0m\n",
            "\u001b[0;31mModuleNotFoundError\u001b[0m: No module named 'pygame'",
            "",
            "\u001b[0;31m---------------------------------------------------------------------------\u001b[0;32m\nNOTE: If your import is failing due to a missing package, you can\nmanually install dependencies using either !pip or !apt.\n\nTo view examples of installing some common dependencies, click the\n\"Open Examples\" button below.\n\u001b[0;31m---------------------------------------------------------------------------\u001b[0m\n"
          ]
        }
      ]
    },
    {
      "cell_type": "code",
      "metadata": {
        "id": "0tF_6ScS-29c",
        "colab": {
          "base_uri": "https://localhost:8080/",
          "height": 229
        },
        "outputId": "7451b5ff-d852-471c-f014-2854d82f8f5e"
      },
      "source": [
        "pygame.init()\n",
        "screen=pygame.display.set_mode((400,300))\n",
        "done = False\n",
        "\n",
        "while not done:\n",
        "  for event in pygame.event.get():\n",
        "    if event.type==pygame.QUIT:\n",
        "      done = True\n",
        "  pygame.display.flip()\n",
        "\n"
      ],
      "execution_count": null,
      "outputs": [
        {
          "output_type": "error",
          "ename": "NameError",
          "evalue": "ignored",
          "traceback": [
            "\u001b[0;31m---------------------------------------------------------------------------\u001b[0m",
            "\u001b[0;31mNameError\u001b[0m                                 Traceback (most recent call last)",
            "\u001b[0;32m<ipython-input-3-9c930f2d7dbb>\u001b[0m in \u001b[0;36m<module>\u001b[0;34m()\u001b[0m\n\u001b[0;32m----> 1\u001b[0;31m \u001b[0mpygame\u001b[0m\u001b[0;34m.\u001b[0m\u001b[0minit\u001b[0m\u001b[0;34m(\u001b[0m\u001b[0;34m)\u001b[0m\u001b[0;34m\u001b[0m\u001b[0;34m\u001b[0m\u001b[0m\n\u001b[0m\u001b[1;32m      2\u001b[0m \u001b[0mscreen\u001b[0m\u001b[0;34m=\u001b[0m\u001b[0mpygame\u001b[0m\u001b[0;34m.\u001b[0m\u001b[0mdisplay\u001b[0m\u001b[0;34m.\u001b[0m\u001b[0mset_mode\u001b[0m\u001b[0;34m(\u001b[0m\u001b[0;34m(\u001b[0m\u001b[0;36m400\u001b[0m\u001b[0;34m,\u001b[0m\u001b[0;36m300\u001b[0m\u001b[0;34m)\u001b[0m\u001b[0;34m)\u001b[0m\u001b[0;34m\u001b[0m\u001b[0;34m\u001b[0m\u001b[0m\n\u001b[1;32m      3\u001b[0m \u001b[0mdone\u001b[0m \u001b[0;34m=\u001b[0m \u001b[0;32mFalse\u001b[0m\u001b[0;34m\u001b[0m\u001b[0;34m\u001b[0m\u001b[0m\n\u001b[1;32m      4\u001b[0m \u001b[0;34m\u001b[0m\u001b[0m\n\u001b[1;32m      5\u001b[0m \u001b[0;32mwhile\u001b[0m \u001b[0;32mnot\u001b[0m \u001b[0mdone\u001b[0m\u001b[0;34m:\u001b[0m\u001b[0;34m\u001b[0m\u001b[0;34m\u001b[0m\u001b[0m\n",
            "\u001b[0;31mNameError\u001b[0m: name 'pygame' is not defined"
          ]
        }
      ]
    },
    {
      "cell_type": "code",
      "metadata": {
        "id": "bzOsq9TQjnEF"
      },
      "source": [
        "import matplotlib.pyplot as plt\n",
        "import numpy as np\n",
        "dicevalues=[1,2,3,4,8]\n",
        "gattalist=[(2,0),(4,2),(2,4),(0,2),(2,2)]\n",
        "inner_x=[1,2,3]\n",
        "inner_y=[1,2,3]"
      ],
      "execution_count": null,
      "outputs": []
    },
    {
      "cell_type": "code",
      "metadata": {
        "id": "poLmO_--CtGH"
      },
      "source": [
        "class ChowkaBaara():\n",
        "\n",
        "  def __init__(self,player1,player2,player3,player4):\n",
        "    print(\"lets play\")\n",
        "    self.playerlist=[player1,player2,player3,player4]\n",
        "    B=Board()\n",
        "    L=[0,0,0,0]\n",
        "    (L[0],L[1],L[2],L[3])=B.initialLocations()\n",
        "    for i in range(4):\n",
        "      self.playerlist[i].pawnlocations=L[i]\n",
        "    #print(self.player1.pawnlocations)\n",
        "    print(Board.showBoard(self.playerlist))\n",
        "\n",
        "  #Has to be changed to encorporate gatti\n",
        "  def validateAction(self,playerno,xnew,ynew):\n",
        "    if xnew==-1 or ynew==-1:\n",
        "      return -1\n",
        "    if xnew in inner_x and ynew in inner_y:\n",
        "      if self.playerlist[playerno].kill==0:\n",
        "        return -1\n",
        "    if (xnew,ynew) in gattalist:\n",
        "      return 1\n",
        "    if (xnew,ynew) in self.playerlist[playerno].pawnlocations:\n",
        "      return -1\n",
        "    return 1\n",
        "\n",
        "  def returnPossibleActions(self,player,playerno,count):\n",
        "    actionlist=[]\n",
        "    for pawn in range(4):\n",
        "      B=Board()\n",
        "      #print(playerno,player.pawnlocations[pawn][0],player.pawnlocations[pawn][1],count)\n",
        "      (xnew,ynew)=B.move(playerno,player.pawnlocations[pawn][0],player.pawnlocations[pawn][1],count)\n",
        "      valid=self.validateAction(playerno,xnew,ynew)\n",
        "      if valid==1:\n",
        "        actionlist.append((player.pawnlocations[pawn][0],player.pawnlocations[pawn][1],xnew,ynew))\n",
        "      #print(actionlist)\n",
        "    return actionlist\n",
        "\n",
        "#(xold,yold,xnew,ynew) is action\n",
        "\n",
        "  def doAction(self,playerno,action):\n",
        "    xold=action[0]\n",
        "    yold=action[1]\n",
        "    xnew=action[2]\n",
        "    ynew=action[3]\n",
        "    for pawn in range(4):\n",
        "      if self.playerlist[playerno].pawnlocations[pawn]==(xold,yold):\n",
        "        self.playerlist[playerno].pawnlocations[pawn]=(xnew,ynew)\n",
        "        if (xnew,ynew)==(2,2):\n",
        "          self.playerlist[playerno].points+=1\n",
        "          return 0\n",
        "        if (xnew,ynew) in gattalist:\n",
        "          return 0\n",
        "        listi=[0,1,2,3]\n",
        "        listi.remove(playerno)\n",
        "        for l in listi:\n",
        "          for p in range(4):\n",
        "            if self.playerlist[l].pawnlocations[pawn]==(xnew,ynew):\n",
        "              self.playerlist[playerno].kill=1\n",
        "              self.playerlist[l].pawnlocations[p]=gattalist[l]\n",
        "              return 1\n",
        "        return 0\n",
        "    return 0    \n",
        "\n",
        "      \n",
        "\n",
        "\n",
        "\n",
        "\n",
        "\n",
        "  def play(self):\n",
        "    while(1):\n",
        "      for playerno in range(4):\n",
        "        print(\" It is \",self.playerlist[playerno].name,\"'s chance to play\")\n",
        "        dice=np.random.choice(dicevalues,1)[0]\n",
        "        print(self.playerlist[playerno].name,\" gets a \",dice)\n",
        "        actionlist=[]\n",
        "        actionlist=self.returnPossibleActions(self.playerlist[playerno],playerno,dice)\n",
        "        B=Board()\n",
        "        if actionlist==[]:\n",
        "          print(\"No move possible\")\n",
        "          print(\"Current state of board is\")\n",
        "          print(Board.showBoard(self.playerlist))\n",
        "        else:\n",
        "          action=self.playerlist[playerno].chooseAction()\n",
        "          print(actionlist)\n",
        "          while action not in actionlist:\n",
        "            print(\"Invalid move, Please choose action again\")\n",
        "            action=self.playerlist[playerno].chooseAction()\n",
        "          x=self.doAction(playerno,action)\n",
        "\n",
        "\n",
        "          print(\"Current state of board is\")\n",
        "          print(Board.showBoard(self.playerlist))\n",
        "\n",
        "          if self.playerlist[playerno].points==4:\n",
        "            print(self.playerlist[playerno].name,\"is the winner!! Congo ma dost\")\n",
        "            return playerno\n",
        "\n",
        "          while x==1:\n",
        "            print(self.playerlist[playerno].name,\" went for the kill\")\n",
        "            print(\" It is \",self.playerlist[playerno].name,\"'s chance to play\")\n",
        "\n",
        "\n",
        "            dice=np.random.choice(dicevalues,1)[0]\n",
        "            print(self.playerlist[playerno].name,\" gets a \",dice)\n",
        "            actionlist=self.returnPossibleActions(self.playerlist[playerno],playerno,dice)\n",
        "            B=Board()\n",
        "\n",
        "            if actionlist==[]:\n",
        "              print(\"No move possible\")\n",
        "              print(\"Current state of board is\")\n",
        "              print(Board.showBoard(self.playerlist))\n",
        "            else:\n",
        "              action=self.playerlist[playerno].chooseAction()\n",
        "              while action not in actionlist:\n",
        "                print(\"Invalid move, Please choose action again\")\n",
        "                action=self.playerlist[playerno].chooseAction()\n",
        "              x=self.doAction(playerno,action)\n",
        "              print(\"Current state of board is\")\n",
        "              print(Board.showBoard(self.playerlist))\n",
        "\n",
        "\n",
        "     \n",
        "          \n",
        "\n",
        "\n",
        "\n"
      ],
      "execution_count": null,
      "outputs": []
    },
    {
      "cell_type": "code",
      "metadata": {
        "id": "_TKPxg2xhCC5"
      },
      "source": [
        "class Player():\n",
        "  def __init__(self,name,pawnlocations=None):\n",
        "    self.name=name\n",
        "    self.pawnlocations=pawnlocations\n",
        "    self.kill=0\n",
        "    self.points=0\n",
        "  \n",
        "\n",
        "  \n",
        "#do action\n"
      ],
      "execution_count": null,
      "outputs": []
    },
    {
      "cell_type": "code",
      "metadata": {
        "id": "xwWMGuUjmp3Y"
      },
      "source": [
        "class HumanPlayer(Player):\n",
        "  def chooseAction(self):\n",
        "    print(\"Dear \",self.name,\" Please decide action\")\n",
        "    inside=input()\n",
        "    action=(int(inside[0]),int(inside[1]),int(inside[2]),int(inside[3]))\n",
        "    return action"
      ],
      "execution_count": null,
      "outputs": []
    },
    {
      "cell_type": "code",
      "metadata": {
        "id": "ZXM18B7_iIaP"
      },
      "source": [
        "class Board():\n",
        "\n",
        "  def initialLocations(self):\n",
        "    initiallocation1=[]\n",
        "    initiallocation2=[]\n",
        "    initiallocation3=[]\n",
        "    initiallocation4=[]\n",
        "\n",
        "    for j in range(4):\n",
        "      initiallocation1.append((2,0))\n",
        "      initiallocation2.append((4,2))\n",
        "      initiallocation3.append((2,4))\n",
        "      initiallocation4.append((0,2))\n",
        "    return (initiallocation1,initiallocation2,initiallocation3,initiallocation4)\n",
        "\n",
        "\n",
        "\n",
        "\n",
        "  def showBoard(playerlist):\n",
        "\n",
        "    #Getting basic setup of board\n",
        "    fig, ax = plt.subplots()\n",
        "\n",
        "    ax.set_ylim(0, 5)\n",
        "    ax.set_xlim(0, 5)\n",
        "    ax.grid(True)\n",
        "    ax.set_xlabel('x-axis')\n",
        "    ax.set_ylabel('y-axis')\n",
        "\n",
        "\n",
        "    x= np.arange(2,3,0.01)\n",
        "    y3=1\n",
        "    y4=0\n",
        "    plt.fill_between(x, y3, y4, color='red', alpha=0.1)\n",
        "    #ax.scatter(0.5,0.5,color='red',marker='v')\n",
        "\n",
        "    x= np.arange(4,5,0.01)\n",
        "    y3=2\n",
        "    y4=3\n",
        "    plt.fill_between(x, y3, y4, color='blue', alpha=0.1)\n",
        "    #ax.scatter(4.5,0.5,color='blue',marker='o')\n",
        "\n",
        "    x= np.arange(2,3,0.01)\n",
        "    y3=5\n",
        "    y4=4\n",
        "    plt.fill_between(x, y3, y4, color='green', alpha=0.1)\n",
        "    #ax.scatter(4.5,4.5,color='green',marker='s')\n",
        "\n",
        "    x= np.arange(0,1,0.01)\n",
        "    y3=2\n",
        "    y4=3\n",
        "    plt.fill_between(x, y3, y4, color='purple', alpha=0.1)\n",
        "    #ax.scatter(0.5,4.5,color='purple',marker='D')\n",
        "\n",
        "    x=np.arange(2,3,0.01)\n",
        "    y3=2\n",
        "    y4=3\n",
        "    plt.fill_between(x, y3, y4, color='yellow', alpha=0.1)\n",
        "\n",
        "    #Plotting the pawns\n",
        "    colorlist=['red','blue','green','purple']\n",
        "    markerlist=['v','o','s','D']\n",
        "    for playerno in range(4):\n",
        "      for pawn in range(4):\n",
        "        n=playerlist[playerno].pawnlocations[pawn][0]\n",
        "        m=playerlist[playerno].pawnlocations[pawn][1]\n",
        "        ax.scatter(0.125+n+(0.25)*playerno,0.125+m+(0.25)*pawn,color=colorlist[playerno],marker=markerlist[playerno])\n",
        "    plt.figure()\n",
        "    plt.show()\n",
        "\n",
        "    \n",
        "  def moveOne(self,playerno,x,y):\n",
        "\n",
        "    if (x,y)==(2,2):\n",
        "      return (-1,-1)\n",
        "\n",
        "    if y==0 and x!=4:\n",
        "      if playerno==0 and x==1:\n",
        "        return (x,1)\n",
        "      else:\n",
        "        return (x+1,0)\n",
        "    if x==4 and y!=4:\n",
        "      if playerno==1 and y==1:\n",
        "        return (x-1,1)\n",
        "      else:\n",
        "        return (x,y+1)\n",
        "    if y==4 and x!=0:\n",
        "      if playerno==2 and x==3:\n",
        "        return (x,y-1)\n",
        "      else:\n",
        "        return (x-1,y)\n",
        "    if x==0 and y!=0:\n",
        "      if playerno==3 and y==3:\n",
        "        return (x+1,y)\n",
        "      else:\n",
        "        return (x,y-1)\n",
        "\n",
        "\n",
        "    if y==1 and x!=3:\n",
        "      if playerno==0 and x==2:\n",
        "        return (2,2)\n",
        "      else:\n",
        "        return (x+1,0)\n",
        "    if x==3 and y!=3:\n",
        "      if playerno==1 and y==2:\n",
        "        return (2,2)\n",
        "      else:\n",
        "        return (x,y+1)\n",
        "    if y==3 and x!=1:\n",
        "      if playerno==2 and x==2:\n",
        "        return (2,2)\n",
        "      else:\n",
        "        return (x-1,y)\n",
        "    if x==1 and y!=1:\n",
        "      if playerno==3 and y==2:\n",
        "        return (2,2)\n",
        "      else:\n",
        "        return (x,y-1)\n",
        "    \n",
        "  def move(self,playerno,x,y,count):\n",
        "    x1=x\n",
        "    y1=y\n",
        "    for i in range(count):\n",
        "      (xnew,ynew)=self.moveOne(playerno,x1,y1)\n",
        "      #print(xnew,ynew)\n",
        "      if(xnew,ynew)==(-1,-1):\n",
        "        return (-1,-1)\n",
        "      (x1,y1)=(xnew,ynew)\n",
        "    return (xnew,ynew)\n",
        "      \n",
        "\n"
      ],
      "execution_count": null,
      "outputs": []
    },
    {
      "cell_type": "code",
      "metadata": {
        "id": "J7QLG7HYZBwN"
      },
      "source": [
        "P1=HumanPlayer('A')\n",
        "P2=HumanPlayer('B')\n",
        "P3=HumanPlayer('C')\n",
        "P4=HumanPlayer('D')"
      ],
      "execution_count": null,
      "outputs": []
    },
    {
      "cell_type": "code",
      "metadata": {
        "id": "gyZbbek-ZcoC",
        "colab": {
          "base_uri": "https://localhost:8080/",
          "height": 334
        },
        "outputId": "0f07ebaa-f27a-4778-83c5-6911525539d1"
      },
      "source": [
        "c=ChowkaBaara(P1,P2,P3,P4)"
      ],
      "execution_count": null,
      "outputs": [
        {
          "output_type": "stream",
          "text": [
            "lets play\n"
          ],
          "name": "stdout"
        },
        {
          "output_type": "display_data",
          "data": {
            "image/png": "[encoded data removed]",
            "text/plain": [
              "<Figure size 432x288 with 1 Axes>"
            ]
          },
          "metadata": {
            "tags": [],
            "needs_background": "light"
          }
        },
        {
          "output_type": "display_data",
          "data": {
            "text/plain": [
              "<Figure size 432x288 with 0 Axes>"
            ]
          },
          "metadata": {
            "tags": []
          }
        },
        {
          "output_type": "stream",
          "text": [
            "None\n"
          ],
          "name": "stdout"
        }
      ]
    },
    {
      "cell_type": "code",
      "metadata": {
        "id": "1y0rUN1mocLd",
        "colab": {
          "base_uri": "https://localhost:8080/",
          "height": 1000
        },
        "outputId": "e66f6758-58f7-4913-96a6-17b93ad547ce"
      },
      "source": [
        "c.play()\n"
      ],
      "execution_count": null,
      "outputs": [
        {
          "output_type": "stream",
          "text": [
            " It is  A 's chance to play\n",
            "A  gets a  1\n",
            "Dear  A  Please decide action\n",
            "2030\n",
            "[(2, 0, 3, 0), (2, 0, 3, 0), (2, 0, 3, 0), (2, 0, 3, 0)]\n",
            "Current state of board is\n"
          ],
          "name": "stdout"
        },
        {
          "output_type": "display_data",
          "data": {
            "image/png": "[encoded data removed]",
            "text/plain": [
              "<Figure size 432x288 with 1 Axes>"
            ]
          },
          "metadata": {
            "tags": [],
            "needs_background": "light"
          }
        },
        {
          "output_type": "display_data",
          "data": {
            "text/plain": [
              "<Figure size 432x288 with 0 Axes>"
            ]
          },
          "metadata": {
            "tags": []
          }
        },
        {
          "output_type": "stream",
          "text": [
            "None\n",
            " It is  B 's chance to play\n",
            "B  gets a  8\n",
            "Dear  B  Please decide action\n",
            "4202\n",
            "[(4, 2, 0, 2), (4, 2, 0, 2), (4, 2, 0, 2), (4, 2, 0, 2)]\n",
            "Current state of board is\n"
          ],
          "name": "stdout"
        },
        {
          "output_type": "display_data",
          "data": {
            "image/png": "[encoded data removed]",
            "text/plain": [
              "<Figure size 432x288 with 1 Axes>"
            ]
          },
          "metadata": {
            "tags": [],
            "needs_background": "light"
          }
        },
        {
          "output_type": "display_data",
          "data": {
            "text/plain": [
              "<Figure size 432x288 with 0 Axes>"
            ]
          },
          "metadata": {
            "tags": []
          }
        },
        {
          "output_type": "stream",
          "text": [
            "None\n",
            " It is  C 's chance to play\n",
            "C  gets a  4\n",
            "Dear  C  Please decide action\n",
            "0954\n",
            "[(2, 4, 0, 2), (2, 4, 0, 2), (2, 4, 0, 2), (2, 4, 0, 2)]\n",
            "Invalid move, Please choose action again\n",
            "Dear  C  Please decide action\n",
            "end\n"
          ],
          "name": "stdout"
        },
        {
          "output_type": "error",
          "ename": "ValueError",
          "evalue": "ignored",
          "traceback": [
            "\u001b[0;31m---------------------------------------------------------------------------\u001b[0m",
            "\u001b[0;31mValueError\u001b[0m                                Traceback (most recent call last)",
            "\u001b[0;32m<ipython-input-33-a8f532bd7dac>\u001b[0m in \u001b[0;36m<module>\u001b[0;34m()\u001b[0m\n\u001b[0;32m----> 1\u001b[0;31m \u001b[0mc\u001b[0m\u001b[0;34m.\u001b[0m\u001b[0mplay\u001b[0m\u001b[0;34m(\u001b[0m\u001b[0;34m)\u001b[0m\u001b[0;34m\u001b[0m\u001b[0;34m\u001b[0m\u001b[0m\n\u001b[0m",
            "\u001b[0;32m<ipython-input-27-13434aca75b1>\u001b[0m in \u001b[0;36mplay\u001b[0;34m(self)\u001b[0m\n\u001b[1;32m     87\u001b[0m           \u001b[0;32mwhile\u001b[0m \u001b[0maction\u001b[0m \u001b[0;32mnot\u001b[0m \u001b[0;32min\u001b[0m \u001b[0mactionlist\u001b[0m\u001b[0;34m:\u001b[0m\u001b[0;34m\u001b[0m\u001b[0;34m\u001b[0m\u001b[0m\n\u001b[1;32m     88\u001b[0m             \u001b[0mprint\u001b[0m\u001b[0;34m(\u001b[0m\u001b[0;34m\"Invalid move, Please choose action again\"\u001b[0m\u001b[0;34m)\u001b[0m\u001b[0;34m\u001b[0m\u001b[0;34m\u001b[0m\u001b[0m\n\u001b[0;32m---> 89\u001b[0;31m             \u001b[0maction\u001b[0m\u001b[0;34m=\u001b[0m\u001b[0mself\u001b[0m\u001b[0;34m.\u001b[0m\u001b[0mplayerlist\u001b[0m\u001b[0;34m[\u001b[0m\u001b[0mplayerno\u001b[0m\u001b[0;34m]\u001b[0m\u001b[0;34m.\u001b[0m\u001b[0mchooseAction\u001b[0m\u001b[0;34m(\u001b[0m\u001b[0;34m)\u001b[0m\u001b[0;34m\u001b[0m\u001b[0;34m\u001b[0m\u001b[0m\n\u001b[0m\u001b[1;32m     90\u001b[0m           \u001b[0mx\u001b[0m\u001b[0;34m=\u001b[0m\u001b[0mself\u001b[0m\u001b[0;34m.\u001b[0m\u001b[0mdoAction\u001b[0m\u001b[0;34m(\u001b[0m\u001b[0mplayerno\u001b[0m\u001b[0;34m,\u001b[0m\u001b[0maction\u001b[0m\u001b[0;34m)\u001b[0m\u001b[0;34m\u001b[0m\u001b[0;34m\u001b[0m\u001b[0m\n\u001b[1;32m     91\u001b[0m \u001b[0;34m\u001b[0m\u001b[0m\n",
            "\u001b[0;32m<ipython-input-29-9dfb56079ef7>\u001b[0m in \u001b[0;36mchooseAction\u001b[0;34m(self)\u001b[0m\n\u001b[1;32m      3\u001b[0m     \u001b[0mprint\u001b[0m\u001b[0;34m(\u001b[0m\u001b[0;34m\"Dear \"\u001b[0m\u001b[0;34m,\u001b[0m\u001b[0mself\u001b[0m\u001b[0;34m.\u001b[0m\u001b[0mname\u001b[0m\u001b[0;34m,\u001b[0m\u001b[0;34m\" Please decide action\"\u001b[0m\u001b[0;34m)\u001b[0m\u001b[0;34m\u001b[0m\u001b[0;34m\u001b[0m\u001b[0m\n\u001b[1;32m      4\u001b[0m     \u001b[0minside\u001b[0m\u001b[0;34m=\u001b[0m\u001b[0minput\u001b[0m\u001b[0;34m(\u001b[0m\u001b[0;34m)\u001b[0m\u001b[0;34m\u001b[0m\u001b[0;34m\u001b[0m\u001b[0m\n\u001b[0;32m----> 5\u001b[0;31m     \u001b[0maction\u001b[0m\u001b[0;34m=\u001b[0m\u001b[0;34m(\u001b[0m\u001b[0mint\u001b[0m\u001b[0;34m(\u001b[0m\u001b[0minside\u001b[0m\u001b[0;34m[\u001b[0m\u001b[0;36m0\u001b[0m\u001b[0;34m]\u001b[0m\u001b[0;34m)\u001b[0m\u001b[0;34m,\u001b[0m\u001b[0mint\u001b[0m\u001b[0;34m(\u001b[0m\u001b[0minside\u001b[0m\u001b[0;34m[\u001b[0m\u001b[0;36m1\u001b[0m\u001b[0;34m]\u001b[0m\u001b[0;34m)\u001b[0m\u001b[0;34m,\u001b[0m\u001b[0mint\u001b[0m\u001b[0;34m(\u001b[0m\u001b[0minside\u001b[0m\u001b[0;34m[\u001b[0m\u001b[0;36m2\u001b[0m\u001b[0;34m]\u001b[0m\u001b[0;34m)\u001b[0m\u001b[0;34m,\u001b[0m\u001b[0mint\u001b[0m\u001b[0;34m(\u001b[0m\u001b[0minside\u001b[0m\u001b[0;34m[\u001b[0m\u001b[0;36m3\u001b[0m\u001b[0;34m]\u001b[0m\u001b[0;34m)\u001b[0m\u001b[0;34m)\u001b[0m\u001b[0;34m\u001b[0m\u001b[0;34m\u001b[0m\u001b[0m\n\u001b[0m\u001b[1;32m      6\u001b[0m     \u001b[0;32mreturn\u001b[0m \u001b[0maction\u001b[0m\u001b[0;34m\u001b[0m\u001b[0;34m\u001b[0m\u001b[0m\n",
            "\u001b[0;31mValueError\u001b[0m: invalid literal for int() with base 10: 'e'"
          ]
        }
      ]
    }
  ]
}